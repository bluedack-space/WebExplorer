{
 "cells": [
  {
   "cell_type": "code",
   "execution_count": 15,
   "metadata": {},
   "outputs": [
    {
     "data": {
      "text/html": [
       "<html><head></head><body>Mitochondria: structure and function - PubMed<br><a href=\"https://pubmed.ncbi.nlm.nih.gov/1962047/\">Link</a><br>Mitochondria in Health and Disease - PubMed<br><a href=\"https://pubmed.ncbi.nlm.nih.gov/31284394/\">Link</a><br>Mitochondria in Health and Diseases - PubMed - NIH<br><a href=\"https://pubmed.ncbi.nlm.nih.gov/32397376/\">Link</a><br>Mitochondria in health and disease: perspectives on a new ...<br><a href=\"https://pubmed.ncbi.nlm.nih.gov/15302203/\">Link</a><br>The Origin and Diversification of Mitochondria - PubMed<br><a href=\"https://pubmed.ncbi.nlm.nih.gov/29112874/\">Link</a><br>Mitochondria: dynamic organelles in disease, aging, and ...<br><a href=\"https://pubmed.ncbi.nlm.nih.gov/16814712/\">Link</a><br>The rise of mitochondria in medicine - PubMed - NIH<br><a href=\"https://pubmed.ncbi.nlm.nih.gov/27423788/\">Link</a><br>Mitochondria-Associated Degradation Pathway (MAD ...<br><a href=\"https://pubmed.ncbi.nlm.nih.gov/32668258/\">Link</a><br></body>"
      ],
      "text/plain": [
       "<IPython.core.display.HTML object>"
      ]
     },
     "metadata": {},
     "output_type": "display_data"
    },
    {
     "data": {
      "text/html": [
       "<html><head></head><body>Mitochondria and apoptosis - PubMed<br><a href=\"https://pubmed.ncbi.nlm.nih.gov/9721092/\">Link</a><br>Mitochondria-Associated Degradation Pathway (MAD ...<br><a href=\"https://pubmed.ncbi.nlm.nih.gov/32668258/\">Link</a><br>Mitochondria: dynamic organelles in disease, aging, and ...<br><a href=\"https://pubmed.ncbi.nlm.nih.gov/16814712/\">Link</a><br>Mitochondria: the indispensable players in innate immunity ...<br><a href=\"https://pubmed.ncbi.nlm.nih.gov/30719617/\">Link</a><br>Mitochondria in cancer - PubMed<br><a href=\"https://pubmed.ncbi.nlm.nih.gov/32548570/\">Link</a><br>Mitochondria as signaling organelles - PubMed - NIH<br><a href=\"https://pubmed.ncbi.nlm.nih.gov/24884669/\">Link</a><br>Mitochondria and cell death: outer membrane ... - PubMed<br><a href=\"https://pubmed.ncbi.nlm.nih.gov/20683470/\">Link</a><br>Mitochondria and neuronal survival - PubMed<br><a href=\"https://pubmed.ncbi.nlm.nih.gov/10617771/\">Link</a><br>Skeletal muscle mitochondria in health and disease - PubMed<br><a href=\"https://pubmed.ncbi.nlm.nih.gov/33550207/\">Link</a><br>TOM70 Sustains Cell Bioenergetics by Promoting IP3R3 ...<br><a href=\"https://pubmed.ncbi.nlm.nih.gov/29395920/\">Link</a><br></body>"
      ],
      "text/plain": [
       "<IPython.core.display.HTML object>"
      ]
     },
     "metadata": {},
     "output_type": "display_data"
    },
    {
     "data": {
      "text/html": [
       "<html><head></head><body>Mitochondria in the signaling pathways that control longevity ...<br><a href=\"https://pubmed.ncbi.nlm.nih.gov/31415807/\">Link</a><br>Mitochondria as targets for detection and treatment of cancer<br><a href=\"https://pubmed.ncbi.nlm.nih.gov/14987393/\">Link</a><br>Mitochondria: An Organelle of Bacterial Origin Controlling ...<br><a href=\"https://pubmed.ncbi.nlm.nih.gov/29725325/\">Link</a><br>Mitochondria in steatohepatitis - PubMed<br><a href=\"https://pubmed.ncbi.nlm.nih.gov/11296697/\">Link</a><br>The role of mitochondria in apoptosis* - PubMed - NIH<br><a href=\"https://pubmed.ncbi.nlm.nih.gov/19659442/\">Link</a><br>Degradation of engulfed mitochondria is rate-limiting in ...<br><a href=\"https://pubmed.ncbi.nlm.nih.gov/31934852/\">Link</a><br>Mitochondria-Targeted Protective Compounds in Parkinson's ...<br><a href=\"https://pubmed.ncbi.nlm.nih.gov/26064418/\">Link</a><br>Chatty Mitochondria: Keeping Balance in Cellular Protein ...<br><a href=\"https://pubmed.ncbi.nlm.nih.gov/27004699/\">Link</a><br>The mitochondria-targeted antioxidant mitoquinone protects ...<br><a href=\"https://pubmed.ncbi.nlm.nih.gov/21159749/\">Link</a><br>Mitochondria and Cancer - PubMed - NIH<br><a href=\"https://pubmed.ncbi.nlm.nih.gov/26942671/\">Link</a><br></body>"
      ],
      "text/plain": [
       "<IPython.core.display.HTML object>"
      ]
     },
     "metadata": {},
     "output_type": "display_data"
    },
    {
     "data": {
      "text/html": [
       "<html><head></head><body>Plant Mitochondria - 270 ページ - Google ブック検索結果<br><a href=\"https://books.google.co.jp/books?id=IKWIDwAAQBAJ&pg=PA270&lpg=PA270&dq=mitochondria+pubmed&source=bl&ots=q-6J2joQgF&sig=ACfU3U3_nWfax7rWMYF3itjyYDJLAX9VyQ&hl=ja&sa=X&ved=2ahUKEwjJlNSK0PbxAhWNEogKHbX6AQo4HhDoATAGegQIDBAD\">Link</a><br></body>"
      ],
      "text/plain": [
       "<IPython.core.display.HTML object>"
      ]
     },
     "metadata": {},
     "output_type": "display_data"
    },
    {
     "data": {
      "text/html": [
       "<html><head></head><body></body>"
      ],
      "text/plain": [
       "<IPython.core.display.HTML object>"
      ]
     },
     "metadata": {},
     "output_type": "display_data"
    },
    {
     "data": {
      "text/html": [
       "<html><head></head><body>Autophagy in Tissue Injury and Homeostasis<br><a href=\"https://books.google.co.jp/books?id=WvMOEAAAQBAJ&pg=PA23&lpg=PA23&dq=mitochondria+pubmed&source=bl&ots=lcCEmxeZZa&sig=ACfU3U2JepkFw8oIvZ5lqG98-hx96l7kNQ&hl=ja&sa=X&ved=2ahUKEwikhp-L0PbxAhUECN4KHUuQAXs4MhDoATAAegQIDBAD\">Link</a><br>Current Strategies for the Biochemical Diagnosis and ...<br><a href=\"https://books.google.co.jp/books?id=P5tyDwAAQBAJ&pg=PA85&lpg=PA85&dq=mitochondria+pubmed&source=bl&ots=wNirv6nnLG&sig=ACfU3U0oYbYEla5pGNYCog2a70OQViqP0Q&hl=ja&sa=X&ved=2ahUKEwikhp-L0PbxAhUECN4KHUuQAXs4MhDoATABegQIBxAD\">Link</a><br>mitochondria pubmed の画像検索結果<br><a href=\"/search?source=univ&tbm=isch&q=mitochondria+pubmed&sa=X&ved=2ahUKEwikhp-L0PbxAhUECN4KHUuQAXs4MhCMmQR6BAgREAI\">Link</a><br></body>"
      ],
      "text/plain": [
       "<IPython.core.display.HTML object>"
      ]
     },
     "metadata": {},
     "output_type": "display_data"
    },
    {
     "data": {
      "text/html": [
       "<html><head></head><body></body>"
      ],
      "text/plain": [
       "<IPython.core.display.HTML object>"
      ]
     },
     "metadata": {},
     "output_type": "display_data"
    },
    {
     "data": {
      "text/html": [
       "<html><head></head><body></body>"
      ],
      "text/plain": [
       "<IPython.core.display.HTML object>"
      ]
     },
     "metadata": {},
     "output_type": "display_data"
    },
    {
     "data": {
      "text/html": [
       "<html><head></head><body></body>"
      ],
      "text/plain": [
       "<IPython.core.display.HTML object>"
      ]
     },
     "metadata": {},
     "output_type": "display_data"
    },
    {
     "data": {
      "text/html": [
       "<html><head></head><body></body>"
      ],
      "text/plain": [
       "<IPython.core.display.HTML object>"
      ]
     },
     "metadata": {},
     "output_type": "display_data"
    }
   ],
   "source": [
    "import urllib.request\n",
    "from urllib.parse import quote\n",
    "from bs4 import BeautifulSoup\n",
    "import time\n",
    "\n",
    "def get_search_html(keyword, page, user_agent=None):\n",
    "    start = \"&start=\" + str(page * 10) # 次ページstart=10\n",
    "    url = 'https://www.google.com/search?q=' + quote(keyword) + start \n",
    "    \n",
    "    headers = {'User-Agent': user_agent}\n",
    "    req = urllib.request.Request(url, headers=headers)\n",
    "\n",
    "    with urllib.request.urlopen(req) as res:\n",
    "        body = res.read()\n",
    "        return body\n",
    "\n",
    "def get_page(soup, page, target=None):\n",
    "    \n",
    "    document = \"<html><head></head><body>\"\n",
    "    \n",
    "    for a_tag in soup.find_all('a'):\n",
    "        h3_tag = a_tag.select(\"h3\")\n",
    "        \n",
    "        if len(h3_tag) > 0:\n",
    "            #print(a_tag)\n",
    "            #print(h3_tag)\n",
    "            \n",
    "            title = h3_tag[0].get_text()\n",
    "            url   = a_tag.get('href')\n",
    "            \n",
    "            if target in url:\n",
    "                document += title + \"<br>\"\n",
    "                document += \"<a href=\\\"\"+url+\"\\\">Link</a>\"  + \"<br>\"\n",
    "            \n",
    "    document += \"</body>\"\n",
    "    return document\n",
    "\n",
    "keyword = 'mitochondria pubmed'\n",
    "user_agent = \"Mozilla/5.0 (Macintosh; Intel Mac OS X 10_15_4) AppleWebKit/537.36 (KHTML, like Gecko) Chrome/86.0.4240.111 Safari/537.36\"\n",
    "\n",
    "from IPython.display import display, HTML\n",
    "\n",
    "rank     = -1\n",
    "max_page = 10\n",
    "\n",
    "for page in range(max_page):\n",
    "    html = get_search_html(keyword, page, user_agent=user_agent)\n",
    "    soup = BeautifulSoup(html, 'html.parser')\n",
    "\n",
    "    title_text = soup.find('title').get_text()\n",
    "    document = get_page(soup, page, target=\"pubmed\")\n",
    "    \n",
    "    display(HTML(document))\n",
    "\n",
    "    page += 1"
   ]
  },
  {
   "cell_type": "code",
   "execution_count": null,
   "metadata": {},
   "outputs": [],
   "source": []
  }
 ],
 "metadata": {
  "kernelspec": {
   "display_name": "Python 3",
   "language": "python",
   "name": "python3"
  },
  "language_info": {
   "codemirror_mode": {
    "name": "ipython",
    "version": 3
   },
   "file_extension": ".py",
   "mimetype": "text/x-python",
   "name": "python",
   "nbconvert_exporter": "python",
   "pygments_lexer": "ipython3",
   "version": "3.9.2+"
  }
 },
 "nbformat": 4,
 "nbformat_minor": 2
}
